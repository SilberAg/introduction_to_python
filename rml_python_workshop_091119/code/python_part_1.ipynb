{
 "cells": [
  {
   "cell_type": "markdown",
   "metadata": {},
   "source": [
    "# Task for the day\n",
    "  ###  For each gene in a results file that has a p-value <= 0.05: \n",
    "  ### 1. Extract the DNA sequence from the full genome sequence using information found in a gene model file\n",
    "  ### 2. Write these gene sequences to a file in multi-fasta format\n",
    "___"
   ]
  },
  {
   "cell_type": "markdown",
   "metadata": {},
   "source": [
    "# Along the way you will be introduced to:\n",
    "- ### Datatypes - strings, ints, lists, tuples, dictionaries\n",
    "- ### Control Flow - if/else statements, for loops\n",
    "- ### Reading from and writing to files\n",
    "- ### Functions"
   ]
  },
  {
   "cell_type": "markdown",
   "metadata": {},
   "source": [
    "___"
   ]
  },
  {
   "cell_type": "markdown",
   "metadata": {},
   "source": [
    "# Part 1 - Strings and Ints (Integers) "
   ]
  },
  {
   "cell_type": "markdown",
   "metadata": {},
   "source": [
    "## Printing Strings"
   ]
  },
  {
   "cell_type": "code",
   "execution_count": null,
   "metadata": {},
   "outputs": [],
   "source": [
    "# print text to screen - use comments to annotate your code\n",
    "# a string is a list of characters in order, surrounded by single or double quotes.  A space is a character\n",
    "print(\"Hello World!\")"
   ]
  },
  {
   "cell_type": "code",
   "execution_count": null,
   "metadata": {},
   "outputs": [],
   "source": [
    "#print() - is the name of a function\n",
    "#  tells python interpreter what we want to do, in this case print something to the screen\n",
    "#  the bits inside parentheses are called the arguments\n",
    "\n",
    "# want to know more on print()?\n",
    "?print\n",
    "\n",
    "# also can use cell inspector, cell tools\n"
   ]
  },
  {
   "cell_type": "code",
   "execution_count": null,
   "metadata": {},
   "outputs": [],
   "source": [
    "# printing special characters \n",
    "print(\"Hello\\nWorld\") # prints newline character\n",
    "print(\"Hello\\tWorld\") # prints tab"
   ]
  },
  {
   "cell_type": "code",
   "execution_count": null,
   "metadata": {},
   "outputs": [],
   "source": [
    "# setting and printing variables\n",
    "greeting = \"Hello, World\"\n",
    "\n",
    "print(greeting)\n"
   ]
  },
  {
   "cell_type": "code",
   "execution_count": null,
   "metadata": {},
   "outputs": [],
   "source": [
    "### Ex 1 ###\n",
    "\n",
    "# Save your name and State/Province/County and Country of birth to a SINGLE variable\n",
    "# When printing this variable your birthplace is two lines below your name\n",
    "\n"
   ]
  },
  {
   "cell_type": "markdown",
   "metadata": {},
   "source": [
    "## Quick aside - naming conventions\n",
    "## https://www.python.org/dev/peps/pep-0008/"
   ]
  },
  {
   "cell_type": "code",
   "execution_count": null,
   "metadata": {},
   "outputs": [],
   "source": [
    "# example\n",
    "HomeTown = \"Denver\" # no camelCase for variables, used for Classes\n",
    "home_town = \"Denver\"  # yes"
   ]
  },
  {
   "cell_type": "markdown",
   "metadata": {},
   "source": [
    "## String manipulation"
   ]
  },
  {
   "cell_type": "code",
   "execution_count": null,
   "metadata": {},
   "outputs": [],
   "source": [
    "# manipulating strings\n",
    "# store string in variable\n",
    "my_dna = \"gagtggatgatgatgggcgctaggcgcgt\"\n",
    "print(my_dna)\n"
   ]
  },
  {
   "cell_type": "code",
   "execution_count": null,
   "metadata": {},
   "outputs": [],
   "source": [
    "# what methods are available to an object? tab and dir\n",
    "print(dir(my_dna))\n",
    "my_dna.\n"
   ]
  },
  {
   "cell_type": "code",
   "execution_count": null,
   "metadata": {},
   "outputs": [],
   "source": [
    "# print string in all uppercase\n",
    "print(my_dna.upper())\n"
   ]
  },
  {
   "cell_type": "code",
   "execution_count": null,
   "metadata": {},
   "outputs": [],
   "source": [
    "# manipulating strings - replacement\n",
    "# possible method for replacement?\n",
    "\n",
    "print(my_dna, my_dna.replace(\"t\", \"u\"))\n"
   ]
  },
  {
   "cell_type": "code",
   "execution_count": null,
   "metadata": {},
   "outputs": [],
   "source": [
    "# want to know more about an object method?\n",
    "my_dna.replace?\n"
   ]
  },
  {
   "cell_type": "code",
   "execution_count": null,
   "metadata": {},
   "outputs": [],
   "source": [
    "# original 'string' or variable is not changed, assign to variable\n",
    "my_rna = my_dna.replace(\"t\", \"u\")\n",
    "print(my_dna, my_rna)\n"
   ]
  },
  {
   "cell_type": "code",
   "execution_count": null,
   "metadata": {},
   "outputs": [],
   "source": [
    "# manipulating strings - join (concatenate) strings \n",
    "dna_5p = \"ATGATGTGTGATGAT\"\n",
    "dna_3p = \"gtctcgtcgtgactagcat\"\n",
    "\n",
    "# join (concatenate)\n",
    "print(dna_5p + dna_3p)\n"
   ]
  },
  {
   "cell_type": "code",
   "execution_count": null,
   "metadata": {},
   "outputs": [],
   "source": [
    "# assign joined to variable\n",
    "full_dna = dna_5p + dna_3p\n",
    "print(full_dna)\n",
    "\n",
    "# what is the length of the new dna sequence?\n",
    "print(len(full_dna))\n"
   ]
  },
  {
   "cell_type": "code",
   "execution_count": null,
   "metadata": {},
   "outputs": [],
   "source": [
    "### Ex 2 ###\n",
    "\n",
    "# add a start codon to 5 prime of \"gagtggatgatgatgggcgctaggcgcgt\" and stop codon to 3 prime\n",
    "# print so appears as: augGAGUGGAUGAUGAUGGGCGCUAGGCGCGUuag\n",
    "my_dna = \"gagtggatgatgatgggcgctaggcgcgt\"\n",
    "start = \"atg\"\n",
    "stop = \"tag\"\n",
    "\n",
    "# convert to RNA\n",
    "\n",
    "\n",
    "# upper case\n",
    "\n",
    "\n",
    "# concatenate multiple, store in variable\n",
    "\n",
    "\n",
    "# or...\n",
    "\n"
   ]
  },
  {
   "cell_type": "code",
   "execution_count": null,
   "metadata": {},
   "outputs": [],
   "source": [
    "# manipulating strings - counting substrings\n",
    "protein = \"padvlsp\"\n",
    "# print(dir(protein))\n",
    "\n",
    "# store counts\n",
    "proline_count = protein.count(\"p\")\n",
    "dvl_count = protein.count(\"dvl\")\n",
    "\n",
    "# what data type is proline_count?\n",
    "print(type(proline_count))\n",
    "\n",
    "# print counts\n",
    "print(protein, proline_count)\n",
    "print(protein, dvl_count)"
   ]
  },
  {
   "cell_type": "markdown",
   "metadata": {},
   "source": [
    "D | E | N | V | E | R \n",
    "--|---|---|---|---|---\n",
    "0 | 1 | 2 | 3 | 4 | 5 "
   ]
  },
  {
   "cell_type": "code",
   "execution_count": null,
   "metadata": {},
   "outputs": [],
   "source": [
    "# manipulating strings - extracting part of a string - indexing/slicing\n",
    "city = \"denver\"\n",
    "print(city)\n",
    "\n",
    "# print 3rd character \n",
    "print(city[3])"
   ]
  },
  {
   "cell_type": "code",
   "execution_count": null,
   "metadata": {},
   "outputs": [],
   "source": [
    "# print first three - slicing\n",
    "print(city, city[1:3])\n",
    "\n",
    "# positions start at zero, not one\n",
    "# positions are inclusive at the start, and exclusive at the stop\n",
    "print(city, city[0:3]) # includes the first character and ends before the 4th character"
   ]
  },
  {
   "cell_type": "code",
   "execution_count": null,
   "metadata": {},
   "outputs": [],
   "source": [
    "# print last four\n",
    "print(city, city[2:]) # not the best\n",
    "print(city, city[-4:]) # minus sign signals to start from the end\n",
    "\n",
    "# print range, stepwise\n",
    "print(city, city[::2])"
   ]
  },
  {
   "cell_type": "code",
   "execution_count": null,
   "metadata": {},
   "outputs": [],
   "source": [
    "### Ex 3 ###\n",
    "\n",
    "# extract first codon, assign to variable \n",
    "# count how many times this codon appears in sequence\n",
    "# print in format: \"the codon XXX appears N times in sequence X\"\n",
    "# hint: does a string have a count method? does a string have a format method?\n",
    "\n",
    "# string formatting example\n",
    "first_name = \"Brendan\"\n",
    "last_name = \"Jeffrey\"\n",
    "print(\"First name: {}\\nLast name: {}\".format(first_name, last_name))\n",
    "\n",
    "my_sequence = \"TGTGCGCGTGTGGGCTGTTT\"\n",
    "\n",
    "# extract codon\n",
    "\n",
    "\n",
    "# count occurences of codon\n",
    "\n",
    "\n",
    "# print using string formatting\n",
    "\n",
    "\n",
    "# format is not specific to print! It is a method for string formatting\n",
    "\n",
    "\n"
   ]
  },
  {
   "cell_type": "markdown",
   "metadata": {},
   "source": [
    "## Ints (and Floats)"
   ]
  },
  {
   "cell_type": "code",
   "execution_count": null,
   "metadata": {},
   "outputs": [],
   "source": [
    "# some math using variables\n",
    "x = 2\n",
    "y = 3\n",
    "\n",
    "print(x + y)\n"
   ]
  },
  {
   "cell_type": "code",
   "execution_count": null,
   "metadata": {},
   "outputs": [],
   "source": [
    "# datatypes are important!\n",
    "a = \"3\"\n",
    "b = \"5\"\n",
    "print(type(a))\n",
    "\n",
    "x = 2\n",
    "y = 3\n",
    "print(type(x))\n",
    "\n",
    "print(a + b)\n",
    "print(x + y)\n",
    "#print(a + x)\n"
   ]
  },
  {
   "cell_type": "code",
   "execution_count": null,
   "metadata": {},
   "outputs": [],
   "source": [
    "# store results in variables\n",
    "summed     = x + y \n",
    "difference = x - y\n",
    "product    = x * y\n",
    "quotient   = x / y\n",
    "power      = x ** y\n",
    "\n",
    "# datatype?\n",
    "print(summed, type(summed))\n",
    "print(quotient, type(quotient))\n",
    "\n",
    "# print formatting using the string format method\n",
    "print(\"{} divided by {}: {}\".format(x, y, quotient))\n"
   ]
  },
  {
   "cell_type": "code",
   "execution_count": null,
   "metadata": {},
   "outputs": [],
   "source": [
    "# boolean comparisons - True or False\n",
    "print(5 < 3)"
   ]
  },
  {
   "cell_type": "code",
   "execution_count": null,
   "metadata": {},
   "outputs": [],
   "source": [
    "# boolean in an if/else statement\n",
    "if x > y:\n",
    "    print(\"{} is greater than {}\".format(x, y))\n",
    "else:\n",
    "    print(\"{} is not greater than {}\".format(x, y))\n"
   ]
  },
  {
   "cell_type": "code",
   "execution_count": null,
   "metadata": {},
   "outputs": [],
   "source": [
    "# what if x and y are equal?\n",
    "x = 3\n",
    "y = 3\n",
    "\n",
    "if x > y:\n",
    "    print(\"{} is greater than {}\".format(x, y))\n",
    "elif x < y:\n",
    "    print(\"{} is less than {}\".format(x, y))\n",
    "elif x == y: \n",
    "    print(\"{} and {} are equal\".format(x, y))\n",
    "    "
   ]
  },
  {
   "cell_type": "markdown",
   "metadata": {},
   "source": [
    "## Part 1 Final Excercise - calculate the GC content of a DNA sequence"
   ]
  },
  {
   "cell_type": "code",
   "execution_count": null,
   "metadata": {},
   "outputs": [],
   "source": [
    "# Calculate the GC content of a sequence\n",
    "# print in the format:\n",
    "# GC content is: (two decimal places)\n",
    "\n",
    "dna_seq = \"TAAACTTTAAAGTTCAAATAAGACATTCACCGCACTATCAGCGAATTGCCACCCCGGTTTGATCCGTTTTAGAACGTGGCAAGGTGAATTCAAGAATCATTCCTTCA\"\n",
    "\n",
    "# how many C's and G's\n",
    "\n",
    "\n",
    "# length of dna sequence\n",
    "\n",
    "\n",
    "# calculate GC content\n",
    "\n",
    "\n",
    "# could do the following\n",
    "\n",
    "\n",
    "# print results\n"
   ]
  }
 ],
 "metadata": {
  "kernelspec": {
   "display_name": "Python 3",
   "language": "python",
   "name": "python3"
  },
  "language_info": {
   "codemirror_mode": {
    "name": "ipython",
    "version": 3
   },
   "file_extension": ".py",
   "mimetype": "text/x-python",
   "name": "python",
   "nbconvert_exporter": "python",
   "pygments_lexer": "ipython3",
   "version": "3.7.3"
  }
 },
 "nbformat": 4,
 "nbformat_minor": 2
}
