{
 "cells": [
  {
   "cell_type": "markdown",
   "metadata": {},
   "source": [
    "# Part 3 - Functions, final excercise"
   ]
  },
  {
   "cell_type": "markdown",
   "metadata": {},
   "source": [
    "## Functions"
   ]
  },
  {
   "cell_type": "code",
   "execution_count": null,
   "metadata": {},
   "outputs": [],
   "source": [
    "## Ex 1\n",
    "# print the reverse and complement of a DNA sequence\n",
    "dna_seq = \"ATGC\"\n",
    "target = \"GCAT\"\n",
    "\n",
    "print(dna_seq, target)\n",
    "\n",
    "# dictionary holding each bases complement\n",
    "\n",
    "\n",
    "# empty list to hold complement bases\n",
    "\n",
    "\n",
    "# reverse the sequence\n",
    "# https://stackoverflow.com/questions/509211/understanding-pythons-slice-notation\n",
    "\n",
    "\n",
    "# loop through reverse string and add its complement to a list\n",
    "  \n",
    "    \n",
    "# join list of complement bases into new string\n",
    "\n",
    "\n",
    "# print the reverse complement\n"
   ]
  },
  {
   "cell_type": "code",
   "execution_count": null,
   "metadata": {},
   "outputs": [],
   "source": [
    "# Make a reusable reverse_complement function so we do not have to write the above code each time we want to RC a sequence\n",
    "def reverse_complement(dna):\n",
    "    \n",
    "    # dictionary holding each bases complement\n",
    "    complement_dict = {\"A\":\"T\", \"T\":\"A\", \"G\":\"C\", \"C\":\"G\"}\n",
    "    \n",
    "    # empty list to hold complement bases\n",
    "    complement_bases = []\n",
    "    \n",
    "    # reverse the sequence\n",
    "    # https://stackoverflow.com/questions/509211/understanding-pythons-slice-notation\n",
    "    reverse = dna[::-1]\n",
    "    \n",
    "    # loop through reverse string and add its complement to a list\n",
    "    for base in reverse:\n",
    "        complement_bases.append(complement_dict[base])\n",
    "    \n",
    "    # join list of complement bases into new string\n",
    "    rc_dna = \"\".join(complement_bases)\n",
    "    \n",
    "    # return the final variable\n",
    "    #print(rc_dna)\n",
    "    return rc_dna\n",
    "\n",
    "## BONUS reverse_complement function - list comprehension\n",
    "def reverse_complement(dna):\n",
    "    complement_dict = {\"A\":\"T\", \"T\":\"A\", \"G\":\"C\", \"C\":\"G\"}\n",
    "\n",
    "    # list comprehension\n",
    "    return \"\".join([complement_dict[base] for base in dna[::-1]])\n",
    "\n",
    "# using a function\n",
    "fancy_rc_dna = reverse_complement(dna_seq)\n",
    "print(\"the reverse complement of {} is {}\".format(dna_seq, fancy_rc_dna))"
   ]
  },
  {
   "cell_type": "markdown",
   "metadata": {},
   "source": [
    "# Final excercise:\n",
    "  ### 1.  Parse a gene model file - extracting gene name, gene product, and coordinate information  \n",
    "  ### 2.  Parse a results file - extracting those genes that have a p-value <= 0.05\n",
    "  ### 3.  Extract DNA sequence for each significant gene, write the sequence to a file in multi-fasta format\n",
    "\n"
   ]
  },
  {
   "cell_type": "code",
   "execution_count": null,
   "metadata": {},
   "outputs": [],
   "source": [
    "# 1.  Parse gene model file, dictionaries for strand, product, and coords\n",
    "\n",
    "# initialize empty dicts\n",
    "strand_dict = {}\n",
    "product_dict = {}\n",
    "coord_dict = {}\n",
    "\n",
    "# read gene models file\n",
    "in_model = \"../data/mtb_gene_models.txt\"\n",
    "with open(in_model) as f:\n",
    "    # skip header\n",
    "    next(f)\n",
    "    \n",
    "    # loop through lines in file\n",
    "\n"
   ]
  },
  {
   "cell_type": "code",
   "execution_count": null,
   "metadata": {},
   "outputs": [],
   "source": [
    "# 2. Parse results file, make list of those genes with p-value <= 0.05\n",
    "\n",
    "in_results = \"../data/mtb_fishers_results.txt\"\n",
    "locus_tags_sig = []\n",
    "with open(in_results) as f:\n",
    "    # skip header\n",
    "    next(f) \n",
    "    \n",
    "    # loop through lines\n"
   ]
  },
  {
   "cell_type": "code",
   "execution_count": null,
   "metadata": {},
   "outputs": [],
   "source": [
    "# 3.  Using gene model data, extract DNA sequence for those genes with p-value <= 0.05\n",
    "\n",
    "# read in genome file and store genome seq in variable\n",
    "in_genome = \"../data/mtb_genome.fa\"\n",
    "with open(in_genome) as f:\n",
    "    # skip the fasta header\n",
    "    next(f)\n",
    "    for line in f:\n",
    "        genome = line\n",
    "        \n",
    "# go through our list of significant genes, extract gene sequence, RC if necessary\n",
    "# write to outfile in fasta format, with using header format of:  >locus_tag|product\n",
    "\n",
    "out_file = \"../results/genes_sig.fa\"\n",
    "with open(out_file, 'w') as f:\n",
    "\n"
   ]
  },
  {
   "cell_type": "code",
   "execution_count": null,
   "metadata": {},
   "outputs": [],
   "source": [
    "# space for testing extraction of correct gene sequence\n",
    "my_sequence = \"ATGTTCGGCCGGCTGTAGggct\"\n",
    "\n",
    "start_coord = 1\n",
    "end_coord = 18\n",
    "\n",
    "my_sequence[start_coord:end_coord]"
   ]
  },
  {
   "cell_type": "code",
   "execution_count": null,
   "metadata": {},
   "outputs": [],
   "source": []
  }
 ],
 "metadata": {
  "kernelspec": {
   "display_name": "Python 3",
   "language": "python",
   "name": "python3"
  },
  "language_info": {
   "codemirror_mode": {
    "name": "ipython",
    "version": 3
   },
   "file_extension": ".py",
   "mimetype": "text/x-python",
   "name": "python",
   "nbconvert_exporter": "python",
   "pygments_lexer": "ipython3",
   "version": "3.7.3"
  }
 },
 "nbformat": 4,
 "nbformat_minor": 2
}
