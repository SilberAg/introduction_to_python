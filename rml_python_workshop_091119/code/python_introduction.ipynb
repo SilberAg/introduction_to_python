{
 "cells": [
  {
   "cell_type": "markdown",
   "metadata": {
    "slideshow": {
     "slide_type": "fragment"
    }
   },
   "source": [
    "<img align=left src=\"https://www.python.org/static/community_logos/python-logo-master-v3-TM.png\">"
   ]
  },
  {
   "cell_type": "markdown",
   "metadata": {},
   "source": [
    "# What is Python?\n",
    "### Python is an interpreted, object-oriented, high-level programming language with dynamic semantics - ??\n",
    "\n",
    "### A python script provides a list of instructions to the computer, written using clear and 'readable' syntax\n",
    "\n",
    "#### - These scripts are reusable\n",
    "#### - Can be simple - short script to parse a text file extracting information of interest \n",
    "#### - To a complex tool or program, incorporating several packages\n"
   ]
  },
  {
   "cell_type": "markdown",
   "metadata": {
    "slideshow": {
     "slide_type": "skip"
    }
   },
   "source": [
    "---"
   ]
  },
  {
   "cell_type": "markdown",
   "metadata": {
    "slideshow": {
     "slide_type": "slide"
    }
   },
   "source": [
    "# Ways to Run a Python Program:\n",
    "\n",
    "#### 1. Within the Python interpreter\n",
    "#### 2. Executing a Python file (.py) with the Python Interpreter - Using syntax aware code editors: sublime, pycharm, etc.\n",
    "#### 3. Using the Jupyter Notebook (we will be using this method)\n",
    "\n",
    "\n",
    "___"
   ]
  },
  {
   "cell_type": "markdown",
   "metadata": {
    "slideshow": {
     "slide_type": "fragment"
    }
   },
   "source": [
    "### 1. Run a Python Program Within the Python interpreter\n",
    "\n",
    "- Open yout _Terminal (Mac)_ or _Command Prompt (Windows)_ \n",
    "- Start the python interpreter by typing __python__ in your Terminal or Command prompt and hit __Enter__\n",
    "\n",
    "        $ python\n",
    "\n",
    "- You should see something that looks like this:\n",
    "\n",
    "        Python 3.5.1 |Anaconda 4.0.0 (x86_64)| (default, Dec  7 2015, 11:24:55)\n",
    "        [GCC 4.2.1 (Apple Inc. build 5577)] on darwin\n",
    "        Type \"help\", \"copyright\", \"credits\" or \"license\" for more information.\n",
    "        >>>\n",
    "\n",
    "\n",
    "- Type __print(\"Hello World\")__ and hit __Enter__"
   ]
  },
  {
   "cell_type": "markdown",
   "metadata": {
    "slideshow": {
     "slide_type": "slide"
    }
   },
   "source": [
    "### 2. Executing a Python file (.py) with the Python Interpreter"
   ]
  },
  {
   "cell_type": "markdown",
   "metadata": {
    "slideshow": {
     "slide_type": "fragment"
    }
   },
   "source": [
    "Open a basic text editor, or a syntax aware editor (eg. [Atom](https://atom.io), [Sublime](https://www.sublimetext.com/)) and type:\n",
    "\n",
    "    print(‘hello world’)\n",
    "\n",
    "Save the file as as text file \"hello_world.py\"\n",
    "\n",
    "__Note:__ Make sure there is not an extra extension on the end such as \".txt\"\n",
    "\n",
    "To run the script, in the Terminal (or DOS prompt) go to directory where script i slocated and type:\n",
    "\n",
    "    $ python ./hello_world.py\n",
    "\n",
    "and hit return.\n",
    "\n",
    "You should see:\n",
    "\n",
    "    $ hello world"
   ]
  },
  {
   "cell_type": "markdown",
   "metadata": {
    "slideshow": {
     "slide_type": "skip"
    }
   },
   "source": [
    "---"
   ]
  },
  {
   "cell_type": "markdown",
   "metadata": {},
   "source": [
    "# 3. Using the Jupyter Notebook\n",
    "\n",
    "- ### The Jupyter Notebook is an open-source web application that allows you to create and share documents that contain live code, equations, visualizations and narrative text.\n",
    "\n",
    "## Jupyter Notebook https://jupyter-notebook.readthedocs.io/en/stable/\n",
    "\n",
    "- ### Will learn as we go along..."
   ]
  },
  {
   "cell_type": "code",
   "execution_count": null,
   "metadata": {},
   "outputs": [],
   "source": [
    "# This is a code cell. See the word \"Code\" in the drop-down menu above?\n",
    "\n",
    "# Click on the __Run__ button above to run this 'cell'\n",
    "# or press 'shift' + 'enter' to run cell\n",
    "\n",
    "print(\"Hello world\")"
   ]
  }
 ],
 "metadata": {
  "anaconda-cloud": {},
  "gist_id": "cedf51e5d24af8694bfe",
  "kernelspec": {
   "display_name": "Python 3",
   "language": "python",
   "name": "python3"
  },
  "language_info": {
   "codemirror_mode": {
    "name": "ipython",
    "version": 3
   },
   "file_extension": ".py",
   "mimetype": "text/x-python",
   "name": "python",
   "nbconvert_exporter": "python",
   "pygments_lexer": "ipython3",
   "version": "3.7.3"
  }
 },
 "nbformat": 4,
 "nbformat_minor": 2
}
