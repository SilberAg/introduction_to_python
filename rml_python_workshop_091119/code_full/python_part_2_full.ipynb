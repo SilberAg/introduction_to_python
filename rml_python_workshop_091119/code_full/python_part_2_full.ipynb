{
 "cells": [
  {
   "cell_type": "markdown",
   "metadata": {},
   "source": [
    "# Part 2 - lists, for loops, dictionaries, file handling"
   ]
  },
  {
   "cell_type": "markdown",
   "metadata": {},
   "source": [
    "## Lists and loops"
   ]
  },
  {
   "cell_type": "code",
   "execution_count": null,
   "metadata": {},
   "outputs": [],
   "source": [
    "# lists are the most versatile data type in python, written as a list of comma separated values\n",
    "# list objects denoted by square brackets []\n",
    "cities = [\"houston\", \"portland\", \"memphis\", \"chicago\", \"denver\", \"boston\"]\n",
    "print(cities)\n",
    "print(type(cities))\n"
   ]
  },
  {
   "cell_type": "code",
   "execution_count": null,
   "metadata": {},
   "outputs": [],
   "source": [
    "# can access items in list by index - same rules as string indexing\n",
    "print(cities[1])\n",
    "print(cities[1:3])\n"
   ]
  },
  {
   "cell_type": "code",
   "execution_count": null,
   "metadata": {},
   "outputs": [],
   "source": [
    "# is an item in a list - membership operators in / not in (boolean)\n",
    "print(\"phoenix\" in cities)\n",
    "print(\"phoenix\" not in cities)\n"
   ]
  },
  {
   "cell_type": "code",
   "execution_count": null,
   "metadata": {},
   "outputs": [],
   "source": [
    "# can \"loop\" over items in a list using a for loop\n",
    "# can loop over many datatypes, lists, strings, dictionaries\n",
    "for city in cities:\n",
    "    print(city)\n",
    "    "
   ]
  },
  {
   "cell_type": "code",
   "execution_count": null,
   "metadata": {},
   "outputs": [],
   "source": [
    "## Ex 1\n",
    "# check if any of the cities are in a list of midwest cities\n",
    "cities = [\"houston\", \"portland\", \"memphis\", \"chicago\", \"denver\", \"boston\"]\n",
    "midwest_cities = [\"chicago\", \"omaha\", \"cleveland\", \"milwaukee\"]\n",
    "\n",
    "# loop over cities\n",
    "for city in cities:\n",
    "    if city in midwest_cities:\n",
    "        print(\"{} is in the midwest\".format(city))\n",
    "        "
   ]
  },
  {
   "cell_type": "code",
   "execution_count": null,
   "metadata": {},
   "outputs": [],
   "source": [
    "# lists can contain different datatypes\n",
    "dna_string = \"CTGTCGT\"\n",
    "clubs = [\"liverpool\", \"timbers\"]\n",
    "\n",
    "all_types_of_things = [\"giraffe\", 6, dna_string, clubs]\n",
    "\n",
    "# what data type is each of the elements\n",
    "for thing in all_types_of_things:\n",
    "    print(\"{} is type: {}\".format(thing, type(thing)))\n",
    "    "
   ]
  },
  {
   "cell_type": "code",
   "execution_count": null,
   "metadata": {},
   "outputs": [],
   "source": [
    "# creating new lists - splitting strings.  default is whitespace\n",
    "text_string = \"lists are really versatile\"\n",
    "print(text_string)\n",
    "\n",
    "# split string into list, assign to variable\n",
    "words = text_string.split()\n",
    "print(words)\n"
   ]
  },
  {
   "cell_type": "code",
   "execution_count": null,
   "metadata": {},
   "outputs": [],
   "source": [
    "# creating new lists - splitting strings. data files often tab delimited or comma separated\n",
    "data_string = \"brendan,jeffrey,colorado state,fort collins\"\n",
    "print(data_string)\n",
    "\n",
    "# extracting useful information from a string\n",
    "# split on delimiter\n",
    "values = data_string.split(\",\")\n",
    "print(values)\n"
   ]
  },
  {
   "cell_type": "code",
   "execution_count": null,
   "metadata": {},
   "outputs": [],
   "source": [
    "# using index, assign items in a list to variable\n",
    "first_name = values[0]\n",
    "last_name = values[1]\n",
    "uni = values[2]\n",
    "uni_city = values[3]\n",
    "\n",
    "# # can put on same line\n",
    "# first_name, last_name, uni, uni_city = values[0], values[1], values[2], values[3]\n",
    "\n",
    "# # IF each line of data file always has same number of fields.  what if large number of fields but only need 3?\n",
    "# first_name, last_name, uni, uni_city = data_string.split(\",\")\n",
    "\n",
    "print(\"{} went to {} in {}\".format(first_name, uni, uni_city))\n"
   ]
  },
  {
   "cell_type": "code",
   "execution_count": null,
   "metadata": {},
   "outputs": [],
   "source": [
    "## Ex 2\n",
    "# creating new lists - adding items to an empty list\n",
    "# for each number in a range of numbers from 1 to 10, append the square of that number to new list\n",
    "# generate numbers using range()\n",
    "\n",
    "# for i in range(1,11):\n",
    "#     print(i)\n",
    "\n",
    "# print(range(1,11))\n",
    "# print([*range(1,11)])\n",
    "\n",
    "# create empty list to hold result of each number squared\n",
    "numbers_squared = []\n",
    "\n",
    "# what methods available to list?\n",
    "numbers_squared.append\n",
    "\n",
    "# loop through a range of numbers, add the square of each number to the numbers_squared list\n",
    "for i in range(1,11):\n",
    "    print(i, i**2)\n",
    "    numbers_squared.append(i**2)\n",
    "    \n",
    "print(numbers_squared)\n",
    "\n",
    "## BONUS - List comprehensions!\n",
    "numbers_squared_lc = [i**2 for i in range(1,11)]\n",
    "\n",
    "print(numbers_squared_lc)"
   ]
  },
  {
   "cell_type": "markdown",
   "metadata": {},
   "source": [
    "## Dictionaries"
   ]
  },
  {
   "cell_type": "code",
   "execution_count": null,
   "metadata": {},
   "outputs": [],
   "source": [
    "# a python dictionary is an unordered collection of data values or items.  \n",
    "# unlike lists which only has a single value as an element, dictionaries contain key:value pairs\n",
    "# dictionaries are used to retrieve a value when a key is known\n",
    "# dictionary objects denoted by curly braces {}\n",
    "\n",
    "city_states_dict = {\"houston\" : \"texas\", \n",
    "                   \"memphis\" : \"tennessee\",\n",
    "                   \"denver\" : \"colorado\", \n",
    "                   \"portland\" : \"maine\"}\n",
    "\n",
    "print(city_states_dict)\n"
   ]
  },
  {
   "cell_type": "code",
   "execution_count": null,
   "metadata": {},
   "outputs": [],
   "source": [
    "# what state is memphis in? you are 'indexing' by key \n",
    "print(city_states_dict[\"memphis\"])\n"
   ]
  },
  {
   "cell_type": "code",
   "execution_count": null,
   "metadata": {},
   "outputs": [],
   "source": [
    "# loop through a list of cities and return the state\n",
    "cities = [\"houston\", \"portland\"]\n",
    "for city in cities:\n",
    "    state = city_states_dict[city]\n",
    "    print(\"{} is in {}\".format(city, state))\n",
    "    #print(\"{} is in {}\".format(city, city_states_dict[city]))\n"
   ]
  },
  {
   "cell_type": "code",
   "execution_count": null,
   "metadata": {},
   "outputs": [],
   "source": [
    "# dictionaries have many methods available\n",
    "print(dir(city_states_dict))\n",
    "\n",
    "# print dicts keys\n",
    "for key in city_states_dict.keys():\n",
    "    print(key)\n"
   ]
  },
  {
   "cell_type": "code",
   "execution_count": null,
   "metadata": {},
   "outputs": [],
   "source": [
    "# what if key is not in dict? can check if dictionary contains key - membership operators in / not in\n",
    "\"new york\" in city_states_dict\n"
   ]
  },
  {
   "cell_type": "code",
   "execution_count": null,
   "metadata": {},
   "outputs": [],
   "source": [
    "# use values() method if checking value membership\n",
    "\"colorado\" in city_states_dict.values()\n"
   ]
  },
  {
   "cell_type": "code",
   "execution_count": null,
   "metadata": {},
   "outputs": [],
   "source": [
    "## Ex 2\n",
    "# loop through cities and return state if city is in dictionary, default looking at dicts keys\n",
    "\n",
    "cities = [\"houston\", \"portland\", \"boston\"]\n",
    "\n",
    "for city in cities:\n",
    "    if city in city_states_dict:\n",
    "        print(\"{} is in {}\".format(city, city_states_dict[city]))\n",
    "    else:\n",
    "        print(\"dont know where that is\")\n"
   ]
  },
  {
   "cell_type": "markdown",
   "metadata": {},
   "source": [
    "# Reading in from files and writing out to files"
   ]
  },
  {
   "cell_type": "code",
   "execution_count": null,
   "metadata": {},
   "outputs": [],
   "source": [
    "# using open() to open files\n",
    "in_file = open(\"../data/mtb_fishers_results.txt\")\n",
    "\n",
    "# can read file line by line using readlines() method\n",
    "contents = in_file.readlines()\n",
    "\n",
    "# need to close the file handle after using\n",
    "in_file.close()\n",
    "\n",
    "# what does 'contents' look like\n",
    "print(type(contents))\n",
    "print(contents)\n"
   ]
  },
  {
   "cell_type": "code",
   "execution_count": null,
   "metadata": {},
   "outputs": [],
   "source": [
    "# # There has to be a better way! \n",
    "# with open(\"../data/mtb_fishers_results.txt\") as f:\n",
    "    \n",
    "#     # loop through lines\n",
    "#     for line in f:\n",
    "#         print(line)\n",
    "        "
   ]
  },
  {
   "cell_type": "code",
   "execution_count": null,
   "metadata": {},
   "outputs": [],
   "source": [
    "# open file, read line by line, adding item in first column to a list of locus_tags.  skip header?\n",
    "in_file = \"../data/mtb_fishers_results.txt\"\n",
    "locus_tags = []\n",
    "with open(in_file) as f:\n",
    "    # skip header row, or can save to variable\n",
    "    next(f)\n",
    "    #header = next(f)\n",
    "    \n",
    "    # loop through lines\n",
    "    for line in f:\n",
    "        \n",
    "        # remove newline characters\n",
    "        line = line.rstrip()\n",
    "        #print(line)\n",
    "        \n",
    "        # split line on delimiter\n",
    "        values = line.split(\"\\t\")\n",
    "        #print(values, type(values))\n",
    "        \n",
    "        # assign to variable\n",
    "        locus_tag = values[0]\n",
    "        \n",
    "        # append to locus_tag list\n",
    "        locus_tags.append(locus_tag)\n",
    "        \n",
    "# print(locus_tags)"
   ]
  },
  {
   "cell_type": "code",
   "execution_count": null,
   "metadata": {},
   "outputs": [],
   "source": [
    "# write the contents of locus_tags to a new file - difference between print() and write()\n",
    "out_file = \"../results/locus_tags.txt\"\n",
    "with open(out_file , 'w') as f:\n",
    "\n",
    "    # can write a header if you want\n",
    "    f.write(\"locus_tag\\n\")\n",
    "    \n",
    "    # loop through locus_tag list object\n",
    "    for locus_tag in locus_tags:\n",
    "        \n",
    "        # write to out file - difference between print() and write()\n",
    "        print(\"{}\".format(locus_tag))\n",
    "        f.write(\"{}\".format(locus_tag))\n",
    "        #f.write(\"{}\\n\".format(locus_tag))"
   ]
  },
  {
   "cell_type": "markdown",
   "metadata": {},
   "source": [
    "# Part 2 Final Excercise - Read mtb_gene_models.txt file \n",
    "###  - Make 3 dictionaries: start/end coord for locus_tag, strand for locus_tag, product for locus_tag\n",
    "###  - What is the start coordinate of Rv0012?  What is the product of this gene?"
   ]
  },
  {
   "cell_type": "code",
   "execution_count": null,
   "metadata": {},
   "outputs": [],
   "source": [
    "# initialize empty dicts\n",
    "strand_dict = {}\n",
    "product_dict = {}\n",
    "coord_dict = {}\n",
    "\n",
    "# read gene models file\n",
    "in_file = \"../data/mtb_gene_models.txt\"\n",
    "with open(in_file) as f:\n",
    "    # skip header\n",
    "    next(f)\n",
    "    \n",
    "    # loop through lines in file\n",
    "    for line in f:\n",
    "        line = line.rstrip()\n",
    "        #print(line)\n",
    "        \n",
    "        # separate columns into list\n",
    "        values = line.split(\"\\t\")\n",
    "        print(values)\n",
    "        \n",
    "        # assign values of interest to variables\n",
    "        #locus_tag, start = values[0], values[1]\n",
    "        locus_tag, start, end, strand, gene, product = line.split(\"\\t\") # careful of length of lists\n",
    "        \n",
    "        # populate dicts, using locus tag as key\n",
    "        strand_dict[locus_tag] = strand\n",
    "        product_dict[locus_tag] = product\n",
    "        \n",
    "        # the value of a dict can be a list (or another dict...)\n",
    "        coord_dict[locus_tag] = [start, end]\n",
    "        "
   ]
  },
  {
   "cell_type": "code",
   "execution_count": null,
   "metadata": {},
   "outputs": [],
   "source": [
    "# what are start coord and product for a specific gene?\n",
    "gene_oi = \"Rv0012\"\n",
    "\n",
    "product = product_dict[gene_oi]\n",
    "print(\"{} encodes for product: {}\".format(gene_oi, product))\n",
    "\n",
    "# print start coord\n",
    "start_coord = coord_dict[gene_oi]\n",
    "#start_coord = coord_dict[gene_oi][0]\n",
    "\n",
    "print(\"the start coord for {}: {}\".format(gene_oi, start_coord))\n"
   ]
  },
  {
   "cell_type": "code",
   "execution_count": null,
   "metadata": {},
   "outputs": [],
   "source": []
  }
 ],
 "metadata": {
  "kernelspec": {
   "display_name": "Python 3",
   "language": "python",
   "name": "python3"
  },
  "language_info": {
   "codemirror_mode": {
    "name": "ipython",
    "version": 3
   },
   "file_extension": ".py",
   "mimetype": "text/x-python",
   "name": "python",
   "nbconvert_exporter": "python",
   "pygments_lexer": "ipython3",
   "version": "3.7.3"
  }
 },
 "nbformat": 4,
 "nbformat_minor": 2
}
